{
 "cells": [
  {
   "cell_type": "code",
   "execution_count": 49,
   "metadata": {},
   "outputs": [],
   "source": [
    "import statistics as stat\n",
    "class OLS:\n",
    "    def __init__(self):\n",
    "        self.coeff=[0,0]\n",
    "    def train(self, X, Y):\n",
    "        x_mean=stat.mean(X)\n",
    "        y_mean=stat.mean(Y)\n",
    "        x_diff=X-x_mean\n",
    "        y_diff=Y-y_mean\n",
    "        self.coeff[1]=sum(x_diff*y_diff)/sum(x_diff*x_diff)\n",
    "        self.coeff[0]=y_mean-(self.coeff[1]*x_mean)\n",
    "    def predict(self, X):\n",
    "        Y= self.coeff[0]+self.coeff[1]*X\n",
    "        return Y\n",
    "    def RSS(self,Y1,Y2):\n",
    "        return sum((Y1-Y2)*(Y1-Y2))\n",
    "    def TSS(self, Y):\n",
    "        y_mean=stat.mean(Y)\n",
    "        return sum((Y-y_mean)**2)\n",
    "    def R_sqr(self, rss, tss):\n",
    "        return (1-(rss/tss))\n",
    "        "
   ]
  },
  {
   "cell_type": "code",
   "execution_count": 53,
   "metadata": {},
   "outputs": [
    {
     "name": "stdout",
     "output_type": "stream",
     "text": [
      "TSS :4236\n",
      "RSS :18.07636363636358\n"
     ]
    }
   ],
   "source": [
    "import numpy as np\n",
    "model= OLS()\n",
    "X=[42,37,30,50,43,47,46]\n",
    "Y=[173,149,123,201,176,188,186]\n",
    "X=np.array(X)\n",
    "Y=np.array(Y)\n",
    "model.train(X,Y)\n",
    "y_predict=model.predict(X)\n",
    "rss=model.RSS(Y,y_predict)\n",
    "tss=model.TSS(Y)\n",
    "print(\"TSS :{}\".format(model.TSS(Y)))\n",
    "print(\"RSS :{}\".format(rss))"
   ]
  },
  {
   "cell_type": "code",
   "execution_count": 51,
   "metadata": {},
   "outputs": [
    {
     "name": "stdout",
     "output_type": "stream",
     "text": [
      "R^2 :0.9957326809168169\n"
     ]
    }
   ],
   "source": [
    "print(\"R^2 :{}\".format(model.R_sqr(rss,tss)))"
   ]
  }
 ],
 "metadata": {
  "kernelspec": {
   "display_name": "Python 3",
   "language": "python",
   "name": "python3"
  },
  "language_info": {
   "codemirror_mode": {
    "name": "ipython",
    "version": 3
   },
   "file_extension": ".py",
   "mimetype": "text/x-python",
   "name": "python",
   "nbconvert_exporter": "python",
   "pygments_lexer": "ipython3",
   "version": "3.7.4"
  }
 },
 "nbformat": 4,
 "nbformat_minor": 2
}
