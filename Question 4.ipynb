{
 "cells": [
  {
   "cell_type": "markdown",
   "id": "81e3c2c4",
   "metadata": {},
   "source": [
    "# Question 4.\n",
    "### Create a linear regression model using ordinary least squares estimation. Find the best fit line for the dataset ‘salary.csv’ using the above model. Display the training and testing dataset in the scatter plot and draw the best fit line in the same. Also find the MSE and R2 for the testing dataset."
   ]
  },
  {
   "cell_type": "code",
   "execution_count": 66,
   "id": "51774c2a",
   "metadata": {},
   "outputs": [],
   "source": [
    "import numpy as np\n",
    "import matplotlib.pyplot as plt\n",
    "import pandas as pd\n",
    "from sklearn.model_selection import train_test_split\n",
    "\n",
    "class LR:\n",
    "    \n",
    "    def __init__(self):\n",
    "        self.coeff = [1,1]\n",
    "    \n",
    "    def train(self,X,Y):\n",
    "        X_mean = np.mean(X)\n",
    "        Y_mean = np.mean(Y)\n",
    "        \n",
    "        Numr = sum((X - X_mean)*(Y - Y_mean))\n",
    "        Denumr = sum((X-X_mean)*(X-X_mean))\n",
    "        \n",
    "        self.coeff[1] = Numr/Denumr\n",
    "        self.coeff[0] = Y_mean - (self.coeff[1]*(X_mean))\n",
    "        print('B0 = ',self.coeff[0],'\\nB1 = ',self.coeff[1])\n",
    "    \n",
    "    def test(self,x1,y1):\n",
    "        \n",
    "        y_pred = self.coeff[0]+self.coeff[1]*x1\n",
    "        print()\n",
    "        plt.scatter(X,Y)\n",
    "        plt.scatter(x1,y1)\n",
    "        plt.plot(x1,y_pred,'r-')\n",
    "        rss = sum((y1-y_pred)**2)\n",
    "        \n",
    "        y_p_mean = np.mean(y_pred)\n",
    "        tss = sum((y1-y_p_mean)**2)\n",
    "        r2 = 1- rss/tss\n",
    "        print('RSS = ',rss,'\\nTSS = ',tss,'\\nR^2 = ',r2)\n",
    "        \n",
    "        \n",
    "        "
   ]
  },
  {
   "cell_type": "code",
   "execution_count": 67,
   "id": "8ebb0400",
   "metadata": {},
   "outputs": [
    {
     "name": "stdout",
     "output_type": "stream",
     "text": [
      "B0 =  25321.583011776813 \n",
      "B1 =  9423.815323030976\n",
      "\n",
      "RSS =  298980581.1354503 \n",
      "TSS =  3120507410.2155976 \n",
      "R^2 =  0.9041884726321501\n"
     ]
    },
    {
     "data": {
      "image/png": "[encoded data removed]",
      "text/plain": [
       "<Figure size 432x288 with 1 Axes>"
      ]
     },
     "metadata": {
      "needs_background": "light"
     },
     "output_type": "display_data"
    }
   ],
   "source": [
    "df = pd.read_csv(\"Datasets/salary.csv\")\n",
    "X = np.array(df['YearsExperience'])\n",
    "Y = np.array(df['Salary'])\n",
    "X_train,X_test,Y_train,Y_test = train_test_split(X,Y, test_size = 0.2,random_state = 42)\n",
    "lr = LR()\n",
    "lr.train(X_train,Y_train)\n",
    "lr.test(X_test,Y_test)"
   ]
  },
  {
   "cell_type": "code",
   "execution_count": null,
   "id": "df4bde25",
   "metadata": {},
   "outputs": [],
   "source": []
  },
  {
   "cell_type": "code",
   "execution_count": null,
   "id": "9c32d0c8",
   "metadata": {},
   "outputs": [],
   "source": []
  }
 ],
 "metadata": {
  "kernelspec": {
   "display_name": "Python 3 (ipykernel)",
   "language": "python",
   "name": "python3"
  },
  "language_info": {
   "codemirror_mode": {
    "name": "ipython",
    "version": 3
   },
   "file_extension": ".py",
   "mimetype": "text/x-python",
   "name": "python",
   "nbconvert_exporter": "python",
   "pygments_lexer": "ipython3",
   "version": "3.9.12"
  }
 },
 "nbformat": 4,
 "nbformat_minor": 5
}
