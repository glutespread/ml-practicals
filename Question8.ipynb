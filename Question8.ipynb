{
 "cells": [
  {
   "cell_type": "markdown",
   "id": "ba0942a7",
   "metadata": {},
   "source": [
    "# Question 8\n",
    "### Use logistic regression to build a model to classify the breast cancer dataset Divide the dataset into training and testing in the ratio 70:30 . Print the confusion matrix, sensitivity, specificity. For each iteration of training, store the training and testing accuracy. Plot a graph showing training and testing accuracy Vs iteration no. Do not use sklearn logistic function."
   ]
  },
  {
   "cell_type": "markdown",
   "id": "8b9c2b28",
   "metadata": {},
   "source": [
    "## Import necessary libraries"
   ]
  },
  {
   "cell_type": "code",
   "execution_count": 25,
   "id": "974096ae",
   "metadata": {},
   "outputs": [],
   "source": [
    "import matplotlib.pyplot as plt\n",
    "from sklearn import metrics\n",
    "from sklearn import datasets\n",
    "from sklearn.model_selection import train_test_split\n",
    "import numpy as np"
   ]
  },
  {
   "cell_type": "markdown",
   "id": "c12781b7",
   "metadata": {},
   "source": [
    "## Building the regression model"
   ]
  },
  {
   "cell_type": "code",
   "execution_count": null,
   "id": "c2518d72",
   "metadata": {},
   "outputs": [],
   "source": [
    "class LogisticRegression:\n",
    "    \n",
    "#     def sigmoidFunction(self,z):\n",
    "#         return 1/(1-np.exp(z))\n",
    "    def sigmoidFunction(self,z):\n",
    "        sig = 1 / (1 + np.exp(-z))     # Define sigmoid function\n",
    "        sig = np.minimum(sig, 0.9999)  # Set upper bound\n",
    "        sig = np.maximum(sig, 0.0001)  # Set lower bound\n",
    "        return sig\n",
    "    \n",
    "    def costFunction(self,X,Y,theta,c):\n",
    "        m = len(X)\n",
    "        n = len(X[0])\n",
    "        fx = np.matmul(X,theta)\n",
    "        \n",
    "        pred_1 = Y*np.log(self.sigmoidFunction(fx+c))\n",
    "        pred_0 = (1-Y)*np.log(1-self.sigmoidFunction(fx+c))\n",
    "        loss = -sum(pred_1 + pred_0)/m\n",
    "        return loss\n",
    "    \n",
    "    def fit(self,X,Y,lr,epochs):\n",
    "        \n",
    "        n = len(X[0])\n",
    "        m = len(X)\n",
    "        theta = np.random.rand(X.shape[1])\n",
    "        c = 0\n",
    "        loss = []\n",
    "        accuracy = []\n",
    "        \n",
    "        for _ in range(epochs):\n",
    "            fx = np.matmul(X,theta)\n",
    "            Y_hat = self.sigmoidFunction(fx+c)\n",
    "            Y_xoxx = Y_hat - Y\n",
    "            theta -= lr*np.dot(X.T,Y_xoxx)/m\n",
    "            c -= (lr*sum(Y_xoxx))/m\n",
    "            loss.append(self.costFunction(X, Y, theta,c))\n",
    "        \n",
    "        self.theta = theta\n",
    "        self.intercept = c\n",
    "        self.loss = loss\n",
    "        \n",
    "        plt.plot(np.arange(0,epochs,1),self.loss)\n",
    "        plt.show()\n",
    "        \n",
    "    def predict(self, X):        \n",
    "        fx = np.matmul(X, self.theta)\n",
    "        return [1 if i > 0.5 else 0 for i in self.sigmoidFunction(fx+self.intercept)]\n",
    "\n",
    "    def confusionMatrix(self,X_test,Y_test):\n",
    "        Y_pred = self.predict(X_test)\n",
    "        confusion_matrix = metrics.confusion_matrix(Y_test, Y_pred)\n",
    "        cm_display = metrics.ConfusionMatrixDisplay(confusion_matrix = confusion_matrix, display_labels = [False, True])\n",
    "        cm_display.plot()\n",
    "        plt.show()"
   ]
  },
  {
   "cell_type": "markdown",
   "id": "46939e6f",
   "metadata": {},
   "source": [
    "## Testing the model on breast cancer dataset"
   ]
  },
  {
   "cell_type": "code",
   "execution_count": 26,
   "id": "b7672ed3",
   "metadata": {},
   "outputs": [
    {
     "name": "stderr",
     "output_type": "stream",
     "text": [
      "C:\\Users\\kumar\\AppData\\Local\\Temp\\ipykernel_8376\\3836917403.py:10: RuntimeWarning: overflow encountered in exp\n",
      "  sig = 1 / (1 + np.exp(-z))     # Define sigmoid function\n"
     ]
    },
    {
     "data": {
      "image/png": "[encoded data removed]",
      "text/plain": [
       "<Figure size 432x288 with 1 Axes>"
      ]
     },
     "metadata": {
      "needs_background": "light"
     },
     "output_type": "display_data"
    },
    {
     "name": "stderr",
     "output_type": "stream",
     "text": [
      "C:\\Users\\kumar\\AppData\\Local\\Temp\\ipykernel_8376\\3836917403.py:10: RuntimeWarning: overflow encountered in exp\n",
      "  sig = 1 / (1 + np.exp(-z))     # Define sigmoid function\n"
     ]
    },
    {
     "data": {
      "image/png": "[encoded data removed]",
      "text/plain": [
       "<Figure size 432x288 with 2 Axes>"
      ]
     },
     "metadata": {
      "needs_background": "light"
     },
     "output_type": "display_data"
    }
   ],
   "source": [
    "cancer = datasets.load_breast_cancer()\n",
    "\n",
    "X = cancer.data\n",
    "Y = cancer.target\n",
    "\n",
    "X_train,X_test,Y_train,Y_test = train_test_split(X,Y,test_size = 0.3,random_state = 42)\n",
    "\n",
    "lr = LogisticRegression()\n",
    "lr.fit(X_train,Y_train,0.05,400)\n",
    "xo = lr.predict(X_test)\n",
    "lr.confusionMatrix(X_test,Y_test)\n",
    "\n",
    "\n",
    "\n",
    "\n"
   ]
  },
  {
   "cell_type": "code",
   "execution_count": null,
   "id": "8a1d9130",
   "metadata": {},
   "outputs": [],
   "source": []
  }
 ],
 "metadata": {
  "kernelspec": {
   "display_name": "Python 3 (ipykernel)",
   "language": "python",
   "name": "python3"
  },
  "language_info": {
   "codemirror_mode": {
    "name": "ipython",
    "version": 3
   },
   "file_extension": ".py",
   "mimetype": "text/x-python",
   "name": "python",
   "nbconvert_exporter": "python",
   "pygments_lexer": "ipython3",
   "version": "3.9.12"
  }
 },
 "nbformat": 4,
 "nbformat_minor": 5
}
